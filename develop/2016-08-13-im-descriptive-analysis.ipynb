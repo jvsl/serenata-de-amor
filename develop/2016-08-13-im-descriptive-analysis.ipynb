{
 "cells": [
  {
   "cell_type": "code",
   "execution_count": 1,
   "metadata": {
    "collapsed": false
   },
   "outputs": [],
   "source": [
    "%matplotlib inline\n",
    "import matplotlib.pyplot as plt\n",
    "import numpy as np\n",
    "import pandas as pd\n",
    "import seaborn as sns"
   ]
  },
  {
   "cell_type": "code",
   "execution_count": 2,
   "metadata": {
    "collapsed": false
   },
   "outputs": [],
   "source": [
    "data = pd.read_csv('../data/2016-08-08-last-year.xz',\n",
    "                   parse_dates=[16],\n",
    "                   dtype={'document_id': np.str,\n",
    "                          'congressperson_id': np.str,\n",
    "                          'congressperson_document': np.str,\n",
    "                          'term_id': np.str,\n",
    "                          'cnpj_cpf': np.str,\n",
    "                          'reimbursement_number': np.str})"
   ]
  },
  {
   "cell_type": "markdown",
   "metadata": {},
   "source": [
    "There are 374,484 expenses reimbursed in the past year."
   ]
  },
  {
   "cell_type": "code",
   "execution_count": 3,
   "metadata": {
    "collapsed": false
   },
   "outputs": [
    {
     "name": "stdout",
     "output_type": "stream",
     "text": [
      "(374484, 29)\n"
     ]
    }
   ],
   "source": [
    "print(data.shape)"
   ]
  },
  {
   "cell_type": "code",
   "execution_count": 4,
   "metadata": {
    "collapsed": false
   },
   "outputs": [
    {
     "data": {
      "text/html": [
       "<div>\n",
       "<table border=\"1\" class=\"dataframe\">\n",
       "  <thead>\n",
       "    <tr style=\"text-align: right;\">\n",
       "      <th></th>\n",
       "      <th>document_id</th>\n",
       "      <th>congressperson_name</th>\n",
       "      <th>congressperson_id</th>\n",
       "      <th>congressperson_document</th>\n",
       "      <th>term</th>\n",
       "      <th>state</th>\n",
       "      <th>party</th>\n",
       "      <th>term_id</th>\n",
       "      <th>subquota_number</th>\n",
       "      <th>subquota_description</th>\n",
       "      <th>...</th>\n",
       "      <th>net_value</th>\n",
       "      <th>month</th>\n",
       "      <th>year</th>\n",
       "      <th>installment</th>\n",
       "      <th>passenger</th>\n",
       "      <th>leg_of_the_trip</th>\n",
       "      <th>batch_number</th>\n",
       "      <th>reimbursement_number</th>\n",
       "      <th>reimbursement_value</th>\n",
       "      <th>applicant_id</th>\n",
       "    </tr>\n",
       "  </thead>\n",
       "  <tbody>\n",
       "    <tr>\n",
       "      <th>0</th>\n",
       "      <td>5886345</td>\n",
       "      <td>ABEL MESQUITA JR.</td>\n",
       "      <td>178957</td>\n",
       "      <td>1</td>\n",
       "      <td>2015</td>\n",
       "      <td>RR</td>\n",
       "      <td>DEM</td>\n",
       "      <td>55</td>\n",
       "      <td>1</td>\n",
       "      <td>Maintenance of office supporting parliamentary...</td>\n",
       "      <td>...</td>\n",
       "      <td>165.65</td>\n",
       "      <td>11</td>\n",
       "      <td>2015</td>\n",
       "      <td>0</td>\n",
       "      <td>NaN</td>\n",
       "      <td>NaN</td>\n",
       "      <td>1255355</td>\n",
       "      <td>5294</td>\n",
       "      <td>NaN</td>\n",
       "      <td>3074</td>\n",
       "    </tr>\n",
       "    <tr>\n",
       "      <th>1</th>\n",
       "      <td>5886361</td>\n",
       "      <td>ABEL MESQUITA JR.</td>\n",
       "      <td>178957</td>\n",
       "      <td>1</td>\n",
       "      <td>2015</td>\n",
       "      <td>RR</td>\n",
       "      <td>DEM</td>\n",
       "      <td>55</td>\n",
       "      <td>1</td>\n",
       "      <td>Maintenance of office supporting parliamentary...</td>\n",
       "      <td>...</td>\n",
       "      <td>59.48</td>\n",
       "      <td>12</td>\n",
       "      <td>2015</td>\n",
       "      <td>0</td>\n",
       "      <td>NaN</td>\n",
       "      <td>NaN</td>\n",
       "      <td>1255361</td>\n",
       "      <td>5294</td>\n",
       "      <td>NaN</td>\n",
       "      <td>3074</td>\n",
       "    </tr>\n",
       "    <tr>\n",
       "      <th>2</th>\n",
       "      <td>5886341</td>\n",
       "      <td>ABEL MESQUITA JR.</td>\n",
       "      <td>178957</td>\n",
       "      <td>1</td>\n",
       "      <td>2015</td>\n",
       "      <td>RR</td>\n",
       "      <td>DEM</td>\n",
       "      <td>55</td>\n",
       "      <td>1</td>\n",
       "      <td>Maintenance of office supporting parliamentary...</td>\n",
       "      <td>...</td>\n",
       "      <td>130.95</td>\n",
       "      <td>11</td>\n",
       "      <td>2015</td>\n",
       "      <td>0</td>\n",
       "      <td>NaN</td>\n",
       "      <td>NaN</td>\n",
       "      <td>1255355</td>\n",
       "      <td>5294</td>\n",
       "      <td>NaN</td>\n",
       "      <td>3074</td>\n",
       "    </tr>\n",
       "    <tr>\n",
       "      <th>3</th>\n",
       "      <td>5928783</td>\n",
       "      <td>ABEL MESQUITA JR.</td>\n",
       "      <td>178957</td>\n",
       "      <td>1</td>\n",
       "      <td>2015</td>\n",
       "      <td>RR</td>\n",
       "      <td>DEM</td>\n",
       "      <td>55</td>\n",
       "      <td>1</td>\n",
       "      <td>Maintenance of office supporting parliamentary...</td>\n",
       "      <td>...</td>\n",
       "      <td>193.06</td>\n",
       "      <td>12</td>\n",
       "      <td>2015</td>\n",
       "      <td>0</td>\n",
       "      <td>NaN</td>\n",
       "      <td>NaN</td>\n",
       "      <td>1268867</td>\n",
       "      <td>5370</td>\n",
       "      <td>NaN</td>\n",
       "      <td>3074</td>\n",
       "    </tr>\n",
       "    <tr>\n",
       "      <th>4</th>\n",
       "      <td>5608486</td>\n",
       "      <td>ABEL MESQUITA JR.</td>\n",
       "      <td>178957</td>\n",
       "      <td>1</td>\n",
       "      <td>2015</td>\n",
       "      <td>RR</td>\n",
       "      <td>DEM</td>\n",
       "      <td>55</td>\n",
       "      <td>1</td>\n",
       "      <td>Maintenance of office supporting parliamentary...</td>\n",
       "      <td>...</td>\n",
       "      <td>310.25</td>\n",
       "      <td>2</td>\n",
       "      <td>2015</td>\n",
       "      <td>0</td>\n",
       "      <td>NaN</td>\n",
       "      <td>NaN</td>\n",
       "      <td>1168538</td>\n",
       "      <td>4966</td>\n",
       "      <td>NaN</td>\n",
       "      <td>3074</td>\n",
       "    </tr>\n",
       "  </tbody>\n",
       "</table>\n",
       "<p>5 rows × 29 columns</p>\n",
       "</div>"
      ],
      "text/plain": [
       "  document_id congressperson_name congressperson_id congressperson_document  \\\n",
       "0     5886345   ABEL MESQUITA JR.            178957                       1   \n",
       "1     5886361   ABEL MESQUITA JR.            178957                       1   \n",
       "2     5886341   ABEL MESQUITA JR.            178957                       1   \n",
       "3     5928783   ABEL MESQUITA JR.            178957                       1   \n",
       "4     5608486   ABEL MESQUITA JR.            178957                       1   \n",
       "\n",
       "   term state party term_id  subquota_number  \\\n",
       "0  2015    RR   DEM      55                1   \n",
       "1  2015    RR   DEM      55                1   \n",
       "2  2015    RR   DEM      55                1   \n",
       "3  2015    RR   DEM      55                1   \n",
       "4  2015    RR   DEM      55                1   \n",
       "\n",
       "                                subquota_description      ...       net_value  \\\n",
       "0  Maintenance of office supporting parliamentary...      ...          165.65   \n",
       "1  Maintenance of office supporting parliamentary...      ...           59.48   \n",
       "2  Maintenance of office supporting parliamentary...      ...          130.95   \n",
       "3  Maintenance of office supporting parliamentary...      ...          193.06   \n",
       "4  Maintenance of office supporting parliamentary...      ...          310.25   \n",
       "\n",
       "  month  year installment passenger  leg_of_the_trip batch_number  \\\n",
       "0    11  2015           0       NaN              NaN      1255355   \n",
       "1    12  2015           0       NaN              NaN      1255361   \n",
       "2    11  2015           0       NaN              NaN      1255355   \n",
       "3    12  2015           0       NaN              NaN      1268867   \n",
       "4     2  2015           0       NaN              NaN      1168538   \n",
       "\n",
       "   reimbursement_number  reimbursement_value  applicant_id  \n",
       "0                  5294                  NaN          3074  \n",
       "1                  5294                  NaN          3074  \n",
       "2                  5294                  NaN          3074  \n",
       "3                  5370                  NaN          3074  \n",
       "4                  4966                  NaN          3074  \n",
       "\n",
       "[5 rows x 29 columns]"
      ]
     },
     "execution_count": 4,
     "metadata": {},
     "output_type": "execute_result"
    }
   ],
   "source": [
    "data.head()"
   ]
  },
  {
   "cell_type": "code",
   "execution_count": 5,
   "metadata": {
    "collapsed": false
   },
   "outputs": [
    {
     "data": {
      "text/plain": [
       "document_id                                                             5886345\n",
       "congressperson_name                                           ABEL MESQUITA JR.\n",
       "congressperson_id                                                        178957\n",
       "congressperson_document                                                       1\n",
       "term                                                                       2015\n",
       "state                                                                        RR\n",
       "party                                                                       DEM\n",
       "term_id                                                                      55\n",
       "subquota_number                                                               1\n",
       "subquota_description          Maintenance of office supporting parliamentary...\n",
       "subquota_group_id                                                             0\n",
       "subquota_group_description                                                  NaN\n",
       "supplier                                COMPANHIA DE AGUAS E ESGOTOS DE RORAIMA\n",
       "cnpj_cpf                                                         05939467000115\n",
       "document_number                                                0010100910378000\n",
       "document_type                                                                 0\n",
       "issue_date                                                  2015-11-14 00:00:00\n",
       "document_value                                                           165.65\n",
       "remark_value                                                                  0\n",
       "net_value                                                                165.65\n",
       "month                                                                        11\n",
       "year                                                                       2015\n",
       "installment                                                                   0\n",
       "passenger                                                                   NaN\n",
       "leg_of_the_trip                                                             NaN\n",
       "batch_number                                                            1255355\n",
       "reimbursement_number                                                       5294\n",
       "reimbursement_value                                                         NaN\n",
       "applicant_id                                                               3074\n",
       "Name: 0, dtype: object"
      ]
     },
     "execution_count": 5,
     "metadata": {},
     "output_type": "execute_result"
    }
   ],
   "source": [
    "data.iloc[0]"
   ]
  },
  {
   "cell_type": "code",
   "execution_count": 6,
   "metadata": {
    "collapsed": false
   },
   "outputs": [],
   "source": [
    "def change_type_to_category(column):\n",
    "    data[column] = data[column].astype('category')\n",
    "\n",
    "category_columns = ['congressperson_id',\n",
    "       'state', 'party', 'term_id',\n",
    "       'subquota_number', 'subquota_group_id',\n",
    "       'document_type', 'applicant_id']\n",
    "\n",
    "[change_type_to_category(column) for column in category_columns]; None"
   ]
  },
  {
   "cell_type": "markdown",
   "metadata": {},
   "source": [
    "Data seems to contain outliers - negative net values and other records in the range of hundreds of thousands of Reais."
   ]
  },
  {
   "cell_type": "code",
   "execution_count": 7,
   "metadata": {
    "collapsed": false
   },
   "outputs": [
    {
     "data": {
      "text/plain": [
       "<matplotlib.axes._subplots.AxesSubplot at 0x115b58dd8>"
      ]
     },
     "execution_count": 7,
     "metadata": {},
     "output_type": "execute_result"
    },
    {
     "data": {
      "image/png": "[encoded data removed]",
      "text/plain": [
       "<matplotlib.figure.Figure at 0x115b58588>"
      ]
     },
     "metadata": {},
     "output_type": "display_data"
    }
   ],
   "source": [
    "sns.distplot(data['net_value'])"
   ]
  },
  {
   "cell_type": "code",
   "execution_count": 8,
   "metadata": {
    "collapsed": false
   },
   "outputs": [
    {
     "data": {
      "text/plain": [
       "count    374484.000000\n",
       "mean        570.566565\n",
       "std        1993.167639\n",
       "min       -9240.770000\n",
       "25%          45.000000\n",
       "50%         134.310000\n",
       "75%         481.000000\n",
       "max      189600.000000\n",
       "Name: net_value, dtype: float64"
      ]
     },
     "execution_count": 8,
     "metadata": {},
     "output_type": "execute_result"
    }
   ],
   "source": [
    "data['net_value'].describe()"
   ]
  },
  {
   "cell_type": "markdown",
   "metadata": {},
   "source": [
    "Most expensive document reimbursed by the government: R$189,600.00"
   ]
  },
  {
   "cell_type": "code",
   "execution_count": 9,
   "metadata": {
    "collapsed": false
   },
   "outputs": [
    {
     "data": {
      "text/html": [
       "<div>\n",
       "<table border=\"1\" class=\"dataframe\">\n",
       "  <thead>\n",
       "    <tr style=\"text-align: right;\">\n",
       "      <th></th>\n",
       "      <th>document_id</th>\n",
       "      <th>congressperson_name</th>\n",
       "      <th>congressperson_id</th>\n",
       "      <th>congressperson_document</th>\n",
       "      <th>term</th>\n",
       "      <th>state</th>\n",
       "      <th>party</th>\n",
       "      <th>term_id</th>\n",
       "      <th>subquota_number</th>\n",
       "      <th>subquota_description</th>\n",
       "      <th>...</th>\n",
       "      <th>net_value</th>\n",
       "      <th>month</th>\n",
       "      <th>year</th>\n",
       "      <th>installment</th>\n",
       "      <th>passenger</th>\n",
       "      <th>leg_of_the_trip</th>\n",
       "      <th>batch_number</th>\n",
       "      <th>reimbursement_number</th>\n",
       "      <th>reimbursement_value</th>\n",
       "      <th>applicant_id</th>\n",
       "    </tr>\n",
       "  </thead>\n",
       "  <tbody>\n",
       "    <tr>\n",
       "      <th>32353</th>\n",
       "      <td>5884288</td>\n",
       "      <td>ARNALDO FARIA DE SÁ</td>\n",
       "      <td>73434</td>\n",
       "      <td>337</td>\n",
       "      <td>2015</td>\n",
       "      <td>SP</td>\n",
       "      <td>PTB</td>\n",
       "      <td>55</td>\n",
       "      <td>5</td>\n",
       "      <td>Publicity of parliamentary activity</td>\n",
       "      <td>...</td>\n",
       "      <td>189600.0</td>\n",
       "      <td>12</td>\n",
       "      <td>2015</td>\n",
       "      <td>0</td>\n",
       "      <td>NaN</td>\n",
       "      <td>NaN</td>\n",
       "      <td>1254689</td>\n",
       "      <td>5266</td>\n",
       "      <td>NaN</td>\n",
       "      <td>292</td>\n",
       "    </tr>\n",
       "  </tbody>\n",
       "</table>\n",
       "<p>1 rows × 29 columns</p>\n",
       "</div>"
      ],
      "text/plain": [
       "      document_id  congressperson_name congressperson_id  \\\n",
       "32353     5884288  ARNALDO FARIA DE SÁ             73434   \n",
       "\n",
       "      congressperson_document  term state party term_id subquota_number  \\\n",
       "32353                     337  2015    SP   PTB      55               5   \n",
       "\n",
       "                      subquota_description      ...      net_value month  \\\n",
       "32353  Publicity of parliamentary activity      ...       189600.0    12   \n",
       "\n",
       "       year installment passenger leg_of_the_trip batch_number  \\\n",
       "32353  2015           0       NaN             NaN      1254689   \n",
       "\n",
       "       reimbursement_number  reimbursement_value  applicant_id  \n",
       "32353                  5266                  NaN           292  \n",
       "\n",
       "[1 rows x 29 columns]"
      ]
     },
     "execution_count": 9,
     "metadata": {},
     "output_type": "execute_result"
    }
   ],
   "source": [
    "data[data['net_value'] == data['net_value'].max()]"
   ]
  },
  {
   "cell_type": "markdown",
   "metadata": {},
   "source": [
    "There are negative net_values."
   ]
  },
  {
   "cell_type": "code",
   "execution_count": 10,
   "metadata": {
    "collapsed": false
   },
   "outputs": [
    {
     "data": {
      "text/plain": [
       "<matplotlib.axes._subplots.AxesSubplot at 0x119bc8470>"
      ]
     },
     "execution_count": 10,
     "metadata": {},
     "output_type": "execute_result"
    },
    {
     "data": {
      "image/png": "[encoded data removed]",
      "text/plain": [
       "<matplotlib.figure.Figure at 0x118661978>"
      ]
     },
     "metadata": {},
     "output_type": "display_data"
    }
   ],
   "source": [
    "sns.distplot(data.loc[data['net_value'] < 0, 'net_value'])"
   ]
  },
  {
   "cell_type": "markdown",
   "metadata": {},
   "source": [
    "Let's try to remove outliers."
   ]
  },
  {
   "cell_type": "code",
   "execution_count": 11,
   "metadata": {
    "collapsed": false
   },
   "outputs": [
    {
     "data": {
      "text/plain": [
       "array([-5408.93635177,  6550.069482  ])"
      ]
     },
     "execution_count": 11,
     "metadata": {},
     "output_type": "execute_result"
    }
   ],
   "source": [
    "dist_range = data['net_value'].mean() + data['net_value'].std() * 3 * np.r_[-1, 1]\n",
    "dist_range"
   ]
  },
  {
   "cell_type": "code",
   "execution_count": 12,
   "metadata": {
    "collapsed": false
   },
   "outputs": [
    {
     "data": {
      "text/plain": [
       "<matplotlib.axes._subplots.AxesSubplot at 0x1170de198>"
      ]
     },
     "execution_count": 12,
     "metadata": {},
     "output_type": "execute_result"
    },
    {
     "data": {
      "image/png": "[encoded data removed]",
      "text/plain": [
       "<matplotlib.figure.Figure at 0x10484a160>"
      ]
     },
     "metadata": {},
     "output_type": "display_data"
    }
   ],
   "source": [
    "wo_outliers = \\\n",
    "    (data['net_value'] >= dist_range[0]) & (data['net_value'] <= dist_range[1])\n",
    "data_wo_outliers = data[wo_outliers]\n",
    "sns.distplot(data_wo_outliers['net_value'])"
   ]
  },
  {
   "cell_type": "markdown",
   "metadata": {},
   "source": [
    "45% of the dataset have net values larger than 3 standard deviations from the mean. Meaning: tail does not contain just a few outliers, but a good portion of the dataset. Let's study what's in this long tail (greater than 3 stds)."
   ]
  },
  {
   "cell_type": "code",
   "execution_count": 13,
   "metadata": {
    "collapsed": false
   },
   "outputs": [
    {
     "name": "stdout",
     "output_type": "stream",
     "text": [
      "170204 0.4545027290885592\n"
     ]
    }
   ],
   "source": [
    "outliers = data[~data.isin(data_wo_outliers)['document_id']]\n",
    "print(len(outliers), len(outliers) / len(data))"
   ]
  },
  {
   "cell_type": "code",
   "execution_count": 14,
   "metadata": {
    "collapsed": false
   },
   "outputs": [
    {
     "data": {
      "text/html": [
       "<div>\n",
       "<table border=\"1\" class=\"dataframe\">\n",
       "  <thead>\n",
       "    <tr style=\"text-align: right;\">\n",
       "      <th></th>\n",
       "      <th>document_id</th>\n",
       "      <th>congressperson_name</th>\n",
       "      <th>congressperson_id</th>\n",
       "      <th>congressperson_document</th>\n",
       "      <th>term</th>\n",
       "      <th>state</th>\n",
       "      <th>party</th>\n",
       "      <th>term_id</th>\n",
       "      <th>subquota_number</th>\n",
       "      <th>subquota_description</th>\n",
       "      <th>...</th>\n",
       "      <th>net_value</th>\n",
       "      <th>month</th>\n",
       "      <th>year</th>\n",
       "      <th>installment</th>\n",
       "      <th>passenger</th>\n",
       "      <th>leg_of_the_trip</th>\n",
       "      <th>batch_number</th>\n",
       "      <th>reimbursement_number</th>\n",
       "      <th>reimbursement_value</th>\n",
       "      <th>applicant_id</th>\n",
       "    </tr>\n",
       "  </thead>\n",
       "  <tbody>\n",
       "    <tr>\n",
       "      <th>76</th>\n",
       "      <td>5851959</td>\n",
       "      <td>ABEL MESQUITA JR.</td>\n",
       "      <td>178957</td>\n",
       "      <td>1</td>\n",
       "      <td>2015</td>\n",
       "      <td>RR</td>\n",
       "      <td>DEM</td>\n",
       "      <td>55</td>\n",
       "      <td>4</td>\n",
       "      <td>Consultancy, research and technical work</td>\n",
       "      <td>...</td>\n",
       "      <td>18000.0</td>\n",
       "      <td>11</td>\n",
       "      <td>2015</td>\n",
       "      <td>0</td>\n",
       "      <td>NaN</td>\n",
       "      <td>NaN</td>\n",
       "      <td>1244585</td>\n",
       "      <td>5242</td>\n",
       "      <td>NaN</td>\n",
       "      <td>3074</td>\n",
       "    </tr>\n",
       "    <tr>\n",
       "      <th>77</th>\n",
       "      <td>5887522</td>\n",
       "      <td>ABEL MESQUITA JR.</td>\n",
       "      <td>178957</td>\n",
       "      <td>1</td>\n",
       "      <td>2015</td>\n",
       "      <td>RR</td>\n",
       "      <td>DEM</td>\n",
       "      <td>55</td>\n",
       "      <td>4</td>\n",
       "      <td>Consultancy, research and technical work</td>\n",
       "      <td>...</td>\n",
       "      <td>18000.0</td>\n",
       "      <td>12</td>\n",
       "      <td>2015</td>\n",
       "      <td>0</td>\n",
       "      <td>NaN</td>\n",
       "      <td>NaN</td>\n",
       "      <td>1255689</td>\n",
       "      <td>5298</td>\n",
       "      <td>NaN</td>\n",
       "      <td>3074</td>\n",
       "    </tr>\n",
       "    <tr>\n",
       "      <th>78</th>\n",
       "      <td>5920934</td>\n",
       "      <td>ABEL MESQUITA JR.</td>\n",
       "      <td>178957</td>\n",
       "      <td>1</td>\n",
       "      <td>2015</td>\n",
       "      <td>RR</td>\n",
       "      <td>DEM</td>\n",
       "      <td>55</td>\n",
       "      <td>4</td>\n",
       "      <td>Consultancy, research and technical work</td>\n",
       "      <td>...</td>\n",
       "      <td>18000.0</td>\n",
       "      <td>12</td>\n",
       "      <td>2015</td>\n",
       "      <td>0</td>\n",
       "      <td>NaN</td>\n",
       "      <td>NaN</td>\n",
       "      <td>1266231</td>\n",
       "      <td>5422</td>\n",
       "      <td>NaN</td>\n",
       "      <td>3074</td>\n",
       "    </tr>\n",
       "    <tr>\n",
       "      <th>79</th>\n",
       "      <td>5761747</td>\n",
       "      <td>ABEL MESQUITA JR.</td>\n",
       "      <td>178957</td>\n",
       "      <td>1</td>\n",
       "      <td>2015</td>\n",
       "      <td>RR</td>\n",
       "      <td>DEM</td>\n",
       "      <td>55</td>\n",
       "      <td>4</td>\n",
       "      <td>Consultancy, research and technical work</td>\n",
       "      <td>...</td>\n",
       "      <td>20000.0</td>\n",
       "      <td>7</td>\n",
       "      <td>2015</td>\n",
       "      <td>0</td>\n",
       "      <td>NaN</td>\n",
       "      <td>NaN</td>\n",
       "      <td>1217319</td>\n",
       "      <td>5124</td>\n",
       "      <td>NaN</td>\n",
       "      <td>3074</td>\n",
       "    </tr>\n",
       "    <tr>\n",
       "      <th>80</th>\n",
       "      <td>5793677</td>\n",
       "      <td>ABEL MESQUITA JR.</td>\n",
       "      <td>178957</td>\n",
       "      <td>1</td>\n",
       "      <td>2015</td>\n",
       "      <td>RR</td>\n",
       "      <td>DEM</td>\n",
       "      <td>55</td>\n",
       "      <td>4</td>\n",
       "      <td>Consultancy, research and technical work</td>\n",
       "      <td>...</td>\n",
       "      <td>20000.0</td>\n",
       "      <td>8</td>\n",
       "      <td>2015</td>\n",
       "      <td>0</td>\n",
       "      <td>NaN</td>\n",
       "      <td>NaN</td>\n",
       "      <td>1226779</td>\n",
       "      <td>5170</td>\n",
       "      <td>NaN</td>\n",
       "      <td>3074</td>\n",
       "    </tr>\n",
       "  </tbody>\n",
       "</table>\n",
       "<p>5 rows × 29 columns</p>\n",
       "</div>"
      ],
      "text/plain": [
       "   document_id congressperson_name congressperson_id congressperson_document  \\\n",
       "76     5851959   ABEL MESQUITA JR.            178957                       1   \n",
       "77     5887522   ABEL MESQUITA JR.            178957                       1   \n",
       "78     5920934   ABEL MESQUITA JR.            178957                       1   \n",
       "79     5761747   ABEL MESQUITA JR.            178957                       1   \n",
       "80     5793677   ABEL MESQUITA JR.            178957                       1   \n",
       "\n",
       "    term state party term_id subquota_number  \\\n",
       "76  2015    RR   DEM      55               4   \n",
       "77  2015    RR   DEM      55               4   \n",
       "78  2015    RR   DEM      55               4   \n",
       "79  2015    RR   DEM      55               4   \n",
       "80  2015    RR   DEM      55               4   \n",
       "\n",
       "                        subquota_description      ...      net_value month  \\\n",
       "76  Consultancy, research and technical work      ...        18000.0    11   \n",
       "77  Consultancy, research and technical work      ...        18000.0    12   \n",
       "78  Consultancy, research and technical work      ...        18000.0    12   \n",
       "79  Consultancy, research and technical work      ...        20000.0     7   \n",
       "80  Consultancy, research and technical work      ...        20000.0     8   \n",
       "\n",
       "    year installment passenger leg_of_the_trip batch_number  \\\n",
       "76  2015           0       NaN             NaN      1244585   \n",
       "77  2015           0       NaN             NaN      1255689   \n",
       "78  2015           0       NaN             NaN      1266231   \n",
       "79  2015           0       NaN             NaN      1217319   \n",
       "80  2015           0       NaN             NaN      1226779   \n",
       "\n",
       "    reimbursement_number  reimbursement_value  applicant_id  \n",
       "76                  5242                  NaN          3074  \n",
       "77                  5298                  NaN          3074  \n",
       "78                  5422                  NaN          3074  \n",
       "79                  5124                  NaN          3074  \n",
       "80                  5170                  NaN          3074  \n",
       "\n",
       "[5 rows x 29 columns]"
      ]
     },
     "execution_count": 14,
     "metadata": {},
     "output_type": "execute_result"
    }
   ],
   "source": [
    "outliers.head()"
   ]
  },
  {
   "cell_type": "code",
   "execution_count": 15,
   "metadata": {
    "collapsed": false
   },
   "outputs": [
    {
     "data": {
      "text/plain": [
       "count                  170204\n",
       "unique                     14\n",
       "top       Flight ticket issue\n",
       "freq                   116993\n",
       "Name: subquota_description, dtype: object"
      ]
     },
     "execution_count": 15,
     "metadata": {},
     "output_type": "execute_result"
    }
   ],
   "source": [
    "outliers['subquota_description'].describe()"
   ]
  },
  {
   "cell_type": "code",
   "execution_count": 16,
   "metadata": {
    "collapsed": false
   },
   "outputs": [],
   "source": [
    "from functools import partial\n",
    "\n",
    "s_na_mean = partial(pd.Series.mean, skipna = True)\n",
    "subquota_number_ranking = \\\n",
    "    outliers.groupby('subquota_number', as_index=False).agg({'net_value': np.nansum})\n",
    "\n",
    "ranking_long_tail = \\\n",
    "    pd.merge(subquota_number_ranking,\n",
    "             data[['subquota_number', 'subquota_description']].drop_duplicates('subquota_number', keep='first'),\n",
    "             how='left',\n",
    "             on='subquota_number').sort_values('net_value', ascending=False)"
   ]
  },
  {
   "cell_type": "code",
   "execution_count": 17,
   "metadata": {
    "collapsed": false
   },
   "outputs": [
    {
     "data": {
      "text/html": [
       "<div>\n",
       "<table border=\"1\" class=\"dataframe\">\n",
       "  <thead>\n",
       "    <tr style=\"text-align: right;\">\n",
       "      <th></th>\n",
       "      <th>subquota_number</th>\n",
       "      <th>net_value</th>\n",
       "      <th>subquota_description</th>\n",
       "    </tr>\n",
       "  </thead>\n",
       "  <tbody>\n",
       "    <tr>\n",
       "      <th>17</th>\n",
       "      <td>999</td>\n",
       "      <td>48229356.25</td>\n",
       "      <td>Flight ticket issue</td>\n",
       "    </tr>\n",
       "    <tr>\n",
       "      <th>3</th>\n",
       "      <td>5</td>\n",
       "      <td>34730760.81</td>\n",
       "      <td>Publicity of parliamentary activity</td>\n",
       "    </tr>\n",
       "    <tr>\n",
       "      <th>2</th>\n",
       "      <td>4</td>\n",
       "      <td>16952282.42</td>\n",
       "      <td>Consultancy, research and technical work</td>\n",
       "    </tr>\n",
       "    <tr>\n",
       "      <th>12</th>\n",
       "      <td>120</td>\n",
       "      <td>8362929.39</td>\n",
       "      <td>Automotive vehicle renting or charter</td>\n",
       "    </tr>\n",
       "    <tr>\n",
       "      <th>6</th>\n",
       "      <td>10</td>\n",
       "      <td>5103956.53</td>\n",
       "      <td>Telecommunication</td>\n",
       "    </tr>\n",
       "  </tbody>\n",
       "</table>\n",
       "</div>"
      ],
      "text/plain": [
       "    subquota_number    net_value                      subquota_description\n",
       "17              999  48229356.25                       Flight ticket issue\n",
       "3                 5  34730760.81       Publicity of parliamentary activity\n",
       "2                 4  16952282.42  Consultancy, research and technical work\n",
       "12              120   8362929.39     Automotive vehicle renting or charter\n",
       "6                10   5103956.53                         Telecommunication"
      ]
     },
     "execution_count": 17,
     "metadata": {},
     "output_type": "execute_result"
    }
   ],
   "source": [
    "ranking_long_tail.head()"
   ]
  },
  {
   "cell_type": "code",
   "execution_count": 18,
   "metadata": {
    "collapsed": false
   },
   "outputs": [
    {
     "data": {
      "image/png": "[encoded data removed]",
      "text/plain": [
       "<matplotlib.figure.Figure at 0x119bd3d30>"
      ]
     },
     "metadata": {},
     "output_type": "display_data"
    }
   ],
   "source": [
    "sns.barplot(x='subquota_description',\n",
    "                    y='net_value',\n",
    "                    data=ranking_long_tail)\n",
    "locs, labels = plt.xticks()\n",
    "plt.setp(labels, rotation=90); None"
   ]
  },
  {
   "cell_type": "markdown",
   "metadata": {},
   "source": [
    "Let's try to match a document found at http://www.camara.gov.br/cota-parlamentar/index.jsp. Can we generate URLs for the documents received for review?"
   ]
  },
  {
   "cell_type": "code",
   "execution_count": 19,
   "metadata": {
    "collapsed": false
   },
   "outputs": [
    {
     "data": {
      "text/plain": [
       "document_id                                    5651163\n",
       "congressperson_name                     ADAIL CARNEIRO\n",
       "congressperson_id                               178864\n",
       "congressperson_document                             92\n",
       "term                                              2015\n",
       "state                                               CE\n",
       "party                                               PP\n",
       "term_id                                             55\n",
       "subquota_number                                      3\n",
       "subquota_description              Fuels and lubricants\n",
       "subquota_group_id                                    1\n",
       "subquota_group_description        Veículos Automotores\n",
       "supplier                      BRASAL COMBUSTíVEIS LTDA\n",
       "cnpj_cpf                                00097626000400\n",
       "document_number                                 572808\n",
       "document_type                                        0\n",
       "issue_date                         2015-04-08 00:00:00\n",
       "document_value                                     100\n",
       "remark_value                                         0\n",
       "net_value                                          100\n",
       "month                                                4\n",
       "year                                              2015\n",
       "installment                                          0\n",
       "passenger                                          NaN\n",
       "leg_of_the_trip                                    NaN\n",
       "batch_number                                   1182395\n",
       "reimbursement_number                              4997\n",
       "reimbursement_value                                NaN\n",
       "applicant_id                                      3016\n",
       "Name: 414, dtype: object"
      ]
     },
     "execution_count": 19,
     "metadata": {},
     "output_type": "execute_result"
    }
   ],
   "source": [
    "records = \\\n",
    "    (data['applicant_id'] == 3016) & \\\n",
    "    (data['month'] == 4) & \\\n",
    "    (data['subquota_number'] == 3)\n",
    "data[records].iloc[0]"
   ]
  },
  {
   "cell_type": "code",
   "execution_count": 20,
   "metadata": {
    "collapsed": false
   },
   "outputs": [
    {
     "data": {
      "text/plain": [
       "document_id                                    5637835\n",
       "congressperson_name                      ARNALDO JORDY\n",
       "congressperson_id                               160602\n",
       "congressperson_document                             18\n",
       "term                                              2015\n",
       "state                                               PA\n",
       "party                                              PPS\n",
       "term_id                                             55\n",
       "subquota_number                                      3\n",
       "subquota_description              Fuels and lubricants\n",
       "subquota_group_id                                    1\n",
       "subquota_group_description        Veículos Automotores\n",
       "supplier                      POSTO SÃO DOMINGOS LTDA.\n",
       "cnpj_cpf                                63814339000141\n",
       "document_number                                 632604\n",
       "document_type                                        0\n",
       "issue_date                         2015-03-16 00:00:00\n",
       "document_value                                      20\n",
       "remark_value                                         0\n",
       "net_value                                           20\n",
       "month                                                3\n",
       "year                                              2015\n",
       "installment                                          0\n",
       "passenger                                          NaN\n",
       "leg_of_the_trip                                    NaN\n",
       "batch_number                                   1177939\n",
       "reimbursement_number                              4974\n",
       "reimbursement_value                                NaN\n",
       "applicant_id                                      2341\n",
       "Name: 33266, dtype: object"
      ]
     },
     "execution_count": 20,
     "metadata": {},
     "output_type": "execute_result"
    }
   ],
   "source": [
    "def document_url(record):\n",
    "    return 'http://www.camara.gov.br/cota-parlamentar/documentos/publ/%s/%s/%s.pdf' % \\\n",
    "        (record['applicant_id'], record['year'], record['document_id'])\n",
    "\n",
    "record = data[data['document_number'] == '632604'].iloc[0]\n",
    "record"
   ]
  },
  {
   "cell_type": "markdown",
   "metadata": {},
   "source": [
    "From the document PDF, we could extract new features such as names of the products/services purchased, name of the seller, address of the business among other things."
   ]
  },
  {
   "cell_type": "code",
   "execution_count": 21,
   "metadata": {
    "collapsed": false
   },
   "outputs": [
    {
     "name": "stdout",
     "output_type": "stream",
     "text": [
      "http://www.camara.gov.br/cota-parlamentar/documentos/publ/2341/2015/5637835.pdf\n"
     ]
    }
   ],
   "source": [
    "print(document_url(record))"
   ]
  },
  {
   "cell_type": "markdown",
   "metadata": {},
   "source": [
    "How about a random record? Is its `document_url` valid? YES!"
   ]
  },
  {
   "cell_type": "code",
   "execution_count": 22,
   "metadata": {
    "collapsed": false
   },
   "outputs": [
    {
     "name": "stdout",
     "output_type": "stream",
     "text": [
      "http://www.camara.gov.br/cota-parlamentar/documentos/publ/2398/2015/5635048.pdf\n"
     ]
    },
    {
     "data": {
      "text/plain": [
       "document_id                                  5635048\n",
       "congressperson_name                     SIBÁ MACHADO\n",
       "congressperson_id                             160613\n",
       "congressperson_document                           58\n",
       "term                                            2015\n",
       "state                                             AC\n",
       "party                                             PT\n",
       "term_id                                           55\n",
       "subquota_number                                   13\n",
       "subquota_description             Congressperson meal\n",
       "subquota_group_id                                  0\n",
       "subquota_group_description                       NaN\n",
       "supplier                      J. BEZERRA DA CUNHA ME\n",
       "cnpj_cpf                              04036977000110\n",
       "document_number                                15283\n",
       "document_type                                      0\n",
       "issue_date                       2015-02-28 00:00:00\n",
       "document_value                                   180\n",
       "remark_value                                       0\n",
       "net_value                                        180\n",
       "month                                              2\n",
       "year                                            2015\n",
       "installment                                        0\n",
       "passenger                                        NaN\n",
       "leg_of_the_trip                                  NaN\n",
       "batch_number                                 1176917\n",
       "reimbursement_number                            4973\n",
       "reimbursement_value                              NaN\n",
       "applicant_id                                    2398\n",
       "Name: 331877, dtype: object"
      ]
     },
     "execution_count": 22,
     "metadata": {},
     "output_type": "execute_result"
    }
   ],
   "source": [
    "record = data.sample(random_state=0).iloc[0]\n",
    "print(document_url(record))\n",
    "record"
   ]
  },
  {
   "cell_type": "markdown",
   "metadata": {},
   "source": [
    "Who are these people? There were 803 different applicants last year."
   ]
  },
  {
   "cell_type": "code",
   "execution_count": 23,
   "metadata": {
    "collapsed": false
   },
   "outputs": [
    {
     "data": {
      "text/plain": [
       "803"
      ]
     },
     "execution_count": 23,
     "metadata": {},
     "output_type": "execute_result"
    }
   ],
   "source": [
    "len(data['applicant_id'].unique())"
   ]
  },
  {
   "cell_type": "code",
   "execution_count": 24,
   "metadata": {
    "collapsed": false
   },
   "outputs": [
    {
     "data": {
      "text/html": [
       "<div>\n",
       "<table border=\"1\" class=\"dataframe\">\n",
       "  <thead>\n",
       "    <tr style=\"text-align: right;\">\n",
       "      <th></th>\n",
       "      <th>applicant_id</th>\n",
       "      <th>net_value</th>\n",
       "    </tr>\n",
       "  </thead>\n",
       "  <tbody>\n",
       "    <tr>\n",
       "      <th>0</th>\n",
       "      <td>19</td>\n",
       "      <td>416089.93</td>\n",
       "    </tr>\n",
       "    <tr>\n",
       "      <th>1</th>\n",
       "      <td>74</td>\n",
       "      <td>396689.18</td>\n",
       "    </tr>\n",
       "    <tr>\n",
       "      <th>2</th>\n",
       "      <td>80</td>\n",
       "      <td>477709.44</td>\n",
       "    </tr>\n",
       "    <tr>\n",
       "      <th>3</th>\n",
       "      <td>84</td>\n",
       "      <td>22762.99</td>\n",
       "    </tr>\n",
       "    <tr>\n",
       "      <th>4</th>\n",
       "      <td>98</td>\n",
       "      <td>395691.19</td>\n",
       "    </tr>\n",
       "  </tbody>\n",
       "</table>\n",
       "</div>"
      ],
      "text/plain": [
       "  applicant_id  net_value\n",
       "0           19  416089.93\n",
       "1           74  396689.18\n",
       "2           80  477709.44\n",
       "3           84   22762.99\n",
       "4           98  395691.19"
      ]
     },
     "execution_count": 24,
     "metadata": {},
     "output_type": "execute_result"
    }
   ],
   "source": [
    "applicants_by_net_value = \\\n",
    "    pd.DataFrame(data.groupby(['applicant_id'], as_index=False).sum()[['applicant_id', 'net_value']])\n",
    "applicants_by_net_value.head()"
   ]
  },
  {
   "cell_type": "code",
   "execution_count": 25,
   "metadata": {
    "collapsed": false
   },
   "outputs": [
    {
     "data": {
      "text/plain": [
       "803"
      ]
     },
     "execution_count": 25,
     "metadata": {},
     "output_type": "execute_result"
    }
   ],
   "source": [
    "len(applicants_by_net_value)"
   ]
  },
  {
   "cell_type": "code",
   "execution_count": 26,
   "metadata": {
    "collapsed": false
   },
   "outputs": [],
   "source": [
    "congressperson_list = data[\n",
    "    ['applicant_id', 'congressperson_name', 'party', 'state']]\n",
    "congressperson_list = congressperson_list.drop_duplicates('applicant_id', keep='first')"
   ]
  },
  {
   "cell_type": "code",
   "execution_count": 27,
   "metadata": {
    "collapsed": false
   },
   "outputs": [
    {
     "data": {
      "text/html": [
       "<div>\n",
       "<table border=\"1\" class=\"dataframe\">\n",
       "  <thead>\n",
       "    <tr style=\"text-align: right;\">\n",
       "      <th></th>\n",
       "      <th>applicant_id</th>\n",
       "      <th>net_value</th>\n",
       "      <th>congressperson_name</th>\n",
       "      <th>party</th>\n",
       "      <th>state</th>\n",
       "    </tr>\n",
       "  </thead>\n",
       "  <tbody>\n",
       "    <tr>\n",
       "      <th>450</th>\n",
       "      <td>2333</td>\n",
       "      <td>542411.99</td>\n",
       "      <td>JHONATAN DE JESUS</td>\n",
       "      <td>PRB</td>\n",
       "      <td>RR</td>\n",
       "    </tr>\n",
       "    <tr>\n",
       "      <th>250</th>\n",
       "      <td>1818</td>\n",
       "      <td>537204.88</td>\n",
       "      <td>EDIO LOPES</td>\n",
       "      <td>PR</td>\n",
       "      <td>RR</td>\n",
       "    </tr>\n",
       "    <tr>\n",
       "      <th>216</th>\n",
       "      <td>1703</td>\n",
       "      <td>520499.10</td>\n",
       "      <td>WELLINGTON ROBERTO</td>\n",
       "      <td>PR</td>\n",
       "      <td>PB</td>\n",
       "    </tr>\n",
       "    <tr>\n",
       "      <th>404</th>\n",
       "      <td>2280</td>\n",
       "      <td>516710.27</td>\n",
       "      <td>VINICIUS GURGEL</td>\n",
       "      <td>PR</td>\n",
       "      <td>AP</td>\n",
       "    </tr>\n",
       "    <tr>\n",
       "      <th>117</th>\n",
       "      <td>1289</td>\n",
       "      <td>513407.27</td>\n",
       "      <td>NILTON CAPIXABA</td>\n",
       "      <td>PTB</td>\n",
       "      <td>RO</td>\n",
       "    </tr>\n",
       "    <tr>\n",
       "      <th>545</th>\n",
       "      <td>2473</td>\n",
       "      <td>510808.79</td>\n",
       "      <td>MARCOS ROGÉRIO</td>\n",
       "      <td>DEM</td>\n",
       "      <td>RO</td>\n",
       "    </tr>\n",
       "    <tr>\n",
       "      <th>456</th>\n",
       "      <td>2341</td>\n",
       "      <td>508400.84</td>\n",
       "      <td>ARNALDO JORDY</td>\n",
       "      <td>PPS</td>\n",
       "      <td>PA</td>\n",
       "    </tr>\n",
       "    <tr>\n",
       "      <th>508</th>\n",
       "      <td>2398</td>\n",
       "      <td>506268.40</td>\n",
       "      <td>SIBÁ MACHADO</td>\n",
       "      <td>PT</td>\n",
       "      <td>AC</td>\n",
       "    </tr>\n",
       "    <tr>\n",
       "      <th>666</th>\n",
       "      <td>2969</td>\n",
       "      <td>504966.44</td>\n",
       "      <td>SHÉRIDAN</td>\n",
       "      <td>PSDB</td>\n",
       "      <td>RR</td>\n",
       "    </tr>\n",
       "    <tr>\n",
       "      <th>286</th>\n",
       "      <td>1881</td>\n",
       "      <td>501329.70</td>\n",
       "      <td>MANOEL JUNIOR</td>\n",
       "      <td>PMDB</td>\n",
       "      <td>PB</td>\n",
       "    </tr>\n",
       "  </tbody>\n",
       "</table>\n",
       "</div>"
      ],
      "text/plain": [
       "     applicant_id  net_value congressperson_name party state\n",
       "450          2333  542411.99   JHONATAN DE JESUS   PRB    RR\n",
       "250          1818  537204.88          EDIO LOPES    PR    RR\n",
       "216          1703  520499.10  WELLINGTON ROBERTO    PR    PB\n",
       "404          2280  516710.27     VINICIUS GURGEL    PR    AP\n",
       "117          1289  513407.27     NILTON CAPIXABA   PTB    RO\n",
       "545          2473  510808.79      MARCOS ROGÉRIO   DEM    RO\n",
       "456          2341  508400.84       ARNALDO JORDY   PPS    PA\n",
       "508          2398  506268.40        SIBÁ MACHADO    PT    AC\n",
       "666          2969  504966.44            SHÉRIDAN  PSDB    RR\n",
       "286          1881  501329.70       MANOEL JUNIOR  PMDB    PB"
      ]
     },
     "execution_count": 27,
     "metadata": {},
     "output_type": "execute_result"
    }
   ],
   "source": [
    "ranking = pd.merge(applicants_by_net_value,\n",
    "                   congressperson_list,\n",
    "                   how='left',\n",
    "                   on='applicant_id').sort_values('net_value', ascending=False)\n",
    "ranking.head(10)"
   ]
  },
  {
   "cell_type": "code",
   "execution_count": 28,
   "metadata": {
    "collapsed": false
   },
   "outputs": [
    {
     "data": {
      "text/plain": [
       "count       803.000000\n",
       "mean     266087.234832\n",
       "std      189000.038242\n",
       "min       -1791.570000\n",
       "25%       33621.015000\n",
       "50%      362625.870000\n",
       "75%      429826.050000\n",
       "max      542411.990000\n",
       "Name: net_value, dtype: float64"
      ]
     },
     "execution_count": 28,
     "metadata": {},
     "output_type": "execute_result"
    }
   ],
   "source": [
    "ranking['net_value'].describe()"
   ]
  },
  {
   "cell_type": "code",
   "execution_count": 29,
   "metadata": {
    "collapsed": false
   },
   "outputs": [
    {
     "data": {
      "image/png": "[encoded data removed]",
      "text/plain": [
       "<matplotlib.figure.Figure at 0x11215fcf8>"
      ]
     },
     "metadata": {},
     "output_type": "display_data"
    }
   ],
   "source": [
    "graph = sns.barplot(x='congressperson_name',\n",
    "                    y='net_value',\n",
    "                    data=ranking)\n",
    "graph.axes.get_xaxis().set_ticks([]); None"
   ]
  },
  {
   "cell_type": "code",
   "execution_count": 30,
   "metadata": {
    "collapsed": false
   },
   "outputs": [],
   "source": [
    "def x_label_generator(record):\n",
    "    return '(%s) %s - %s' % (record['party'], record['congressperson_name'], record['state'])\n",
    "\n",
    "ranking['x_label'] = ranking.apply(x_label_generator, axis=1)"
   ]
  },
  {
   "cell_type": "markdown",
   "metadata": {},
   "source": [
    "Apparently, politicians from states further away from Distrito Federal expent more. We could perform an analysis on distance to the capital and the home state from the politician."
   ]
  },
  {
   "cell_type": "code",
   "execution_count": 31,
   "metadata": {
    "collapsed": false
   },
   "outputs": [
    {
     "data": {
      "image/png": "[encoded data removed]",
      "text/plain": [
       "<matplotlib.figure.Figure at 0x112f004a8>"
      ]
     },
     "metadata": {},
     "output_type": "display_data"
    }
   ],
   "source": [
    "sns.barplot(x='x_label',\n",
    "            y='net_value',\n",
    "            data=ranking.head(30))\n",
    "locs, labels = plt.xticks()\n",
    "plt.setp(labels, rotation=90); None"
   ]
  },
  {
   "cell_type": "code",
   "execution_count": 32,
   "metadata": {
    "collapsed": true
   },
   "outputs": [],
   "source": [
    "# empty cpf/cnpj for foreign expenses"
   ]
  }
 ],
 "metadata": {
  "kernelspec": {
   "display_name": "Python 3",
   "language": "python3",
   "name": "python3"
  },
  "language_info": {
   "codemirror_mode": {
    "name": "ipython",
    "version": 3
   },
   "file_extension": ".py",
   "mimetype": "text/x-python",
   "name": "python",
   "nbconvert_exporter": "python",
   "pygments_lexer": "ipython3",
   "version": "3.5.2"
  }
 },
 "nbformat": 4,
 "nbformat_minor": 0
}
